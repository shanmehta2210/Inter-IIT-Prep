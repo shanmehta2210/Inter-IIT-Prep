{
 "cells": [
  {
   "cell_type": "code",
   "execution_count": 10,
   "id": "14644445",
   "metadata": {},
   "outputs": [
    {
     "name": "stdout",
     "output_type": "stream",
     "text": [
      "['epoch_for_cdf_mod', 'energy_center_mod', 'energy_uncer', 'integrated_flux_mod', 'flux_uncer', 'integrated_flux_s15_mod', 'integrated_flux_s16_mod', 'integrated_flux_s17_mod', 'integrated_flux_s18_mod', 'integrated_flux_s19_mod', 'spacecraft_xpos', 'spacecraft_ypos', 'spacecraft_zpos', 'sun_angle_tha2']\n",
      "[{'TITLE': 'Global'}, {'FIELDNAME': 'Variable'}, {'UNITS': 'Variable'}, {'CATDESC': 'Variable'}, {'DEPEND_0': 'Variable'}, {'DEPEND_1': 'Variable'}, {'DEPEND_2': 'Variable'}, {'DISPLAY_TYPE': 'Variable'}, {'FILLVAL': 'Variable'}, {'FORMAT': 'Variable'}, {'LABLAXIS': 'Variable'}, {'LABL_PTR_1': 'Variable'}, {'VALIDMIN': 'Variable'}, {'VALIDMAX': 'Variable'}, {'VAR_TYPE': 'Variable'}, {'SCALETYP': 'Variable'}, {'VAR_NOTES': 'Variable'}, {'AVG_TYPE': 'Variable'}, {'DELTA_PLUS_VAR': 'Variable'}, {'DELTA_MINUS_VAR': 'Variable'}, {'DICT_KEY': 'Variable'}, {'MONOTON': 'Variable'}, {'SCALEMIN': 'Variable'}, {'SCALEMAX': 'Variable'}, {'V_PARENT': 'Variable'}, {'LIMITS_WARN_MIN': 'Variable'}, {'LIMITS_WARN_MAX': 'Variable'}, {'LIMITS_NOMINAL_MIN': 'Variable'}, {'LIMITS_NOMINAL_MAX': 'Variable'}, {'VARIABLE_PURPOSE': 'Variable'}, {'DERIVN': 'Variable'}, {'sig_digits': 'Variable'}, {'SI_conv': 'Variable'}, {'TIME_BASE': 'Variable'}, {'TIME_SCALE': 'Variable'}, {'LEAP_SECONDS_INCLUDED': 'Variable'}, {'REFERENCE_POSITION': 'Variable'}, {'RESOLUTION': 'Variable'}, {'ABSOLUTE_ERROR': 'Variable'}, {'RELATIVE_ERROR': 'Variable'}, {'BIN_LOCATION': 'Variable'}, {'Observation_start_time': 'Global'}, {'Observation_end_time': 'Global'}, {'Record_length': 'Global'}, {'Project': 'Global'}, {'Source_name': 'Global'}, {'Discipline': 'Global'}, {'Data_type': 'Global'}, {'Descriptor': 'Global'}, {'Data_version': 'Global'}, {'Logical_file_id': 'Global'}, {'PI_name': 'Global'}, {'PI_affiliation': 'Global'}, {'TEXT': 'Global'}, {'Instrument_type': 'Global'}, {'Mission_group': 'Global'}, {'Logical_source': 'Global'}, {'Logical_source_description': 'Global'}, {'Software_version': 'Global'}, {'DOI': 'Global'}, {'Generation_date': 'Global'}, {'Generated_by': 'Global'}, {'Data_quality': 'Global'}, {'HTTP_LINK': 'Global'}, {'LINK_TEXT': 'Global'}, {'LINK_TITLE': 'Global'}, {'MODS': 'Global'}, {'Rules_of_use': 'Global'}, {'Time_resolution': 'Global'}, {'Website': 'Global'}]\n"
     ]
    }
   ],
   "source": [
    "import cdflib\n",
    "import cdflib\n",
    "THA1 = cdflib.CDF('AL1_ASW91_L2_TH1_20240507_UNP_9999_999999_V02.cdf')\n",
    "THA2 = cdflib.CDF('AL1_ASW91_L2_TH2_20240507_UNP_9999_999999_V02.cdf')\n",
    "info = THA2.cdf_info()\n",
    "print(info.zVariables)\n",
    "print(info.Attributes)"
   ]
  },
  {
   "cell_type": "code",
   "execution_count": 11,
   "id": "68834202",
   "metadata": {},
   "outputs": [
    {
     "name": "stdout",
     "output_type": "stream",
     "text": [
      "<class 'numpy.ndarray'>\n",
      "Data Type: 31\n",
      "Dimensions: []\n",
      "Record Varying: True\n",
      "Compression: 0\n",
      "[6.38822592e+13 6.38822592e+13 6.38822592e+13 ... 6.38823456e+13\n",
      " 6.38823456e+13 6.38823456e+13]\n",
      "34549\n",
      "2024-05-07T00:00:27.189\n",
      "2024-05-07T00:00:29.689\n",
      "2024-05-07T00:00:32.189\n",
      "2024-05-07T00:00:34.689\n",
      "2024-05-07T00:00:37.189\n",
      "2024-05-07T00:00:39.689\n",
      "2024-05-07T00:00:42.189\n",
      "2024-05-07T00:00:44.689\n",
      "2024-05-07T00:00:47.189\n",
      "2024-05-07T00:00:49.689\n"
     ]
    }
   ],
   "source": [
    "cdata_efcm = THA2.varget('epoch_for_cdf_mod')\n",
    "print(type(cdata_efcm))\n",
    "var_info = THA2.varinq(\"epoch_for_cdf_mod\")\n",
    "print(f\"Data Type: {var_info.Data_Type}\")\n",
    "print(f\"Dimensions: {var_info.Dim_Sizes}\")\n",
    "print(f\"Record Varying: {var_info.Rec_Vary}\")\n",
    "print(f\"Compression: {var_info.Compress}\")\n",
    "print(cdata_efcm)\n",
    "print(len(cdata_efcm))\n",
    "for i in range(10):\n",
    "    print(cdflib.cdfepoch.encode(cdata_efcm[i]))\n",
    "# date_str = cdflib.cdfepoch.encode(cdata_efcm[1])\n",
    "# print(date_str)"
   ]
  },
  {
   "cell_type": "markdown",
   "id": "7ad9634e",
   "metadata": {},
   "source": [
    "efcm represents time after 0000/01/01 00:00:00.000. This is the EPOCH format, with the value being the number of milliseconds after this time. every 5 seconds, an additional reading is made. There is an entire day's worth of readings in one cdf. A 25 second gap exists in this file where readings were not taken. "
   ]
  },
  {
   "cell_type": "code",
   "execution_count": 35,
   "id": "6245b86a",
   "metadata": {},
   "outputs": [
    {
     "name": "stdout",
     "output_type": "stream",
     "text": [
      "<class 'numpy.ndarray'>\n",
      "Data Type: 45\n",
      "Dimensions: [50]\n",
      "Record Varying: True\n",
      "Compression: 0\n",
      "[[  125.93289039   136.69067051   147.44845064 ... 14293.92931264\n",
      "  15886.08077088 17661.11449121]\n",
      " [  125.93289039   136.69067051   147.44845064 ... 14293.92931264\n",
      "  15886.08077088 17661.11449121]\n",
      " [  125.93289039   136.69067051   147.44845064 ... 14293.92931264\n",
      "  15886.08077088 17661.11449121]\n",
      " ...\n",
      " [  125.93289039   136.69067051   147.44845064 ... 14293.92931264\n",
      "  15886.08077088 17661.11449121]\n",
      " [  125.93289039   136.69067051   147.44845064 ... 14293.92931264\n",
      "  15886.08077088 17661.11449121]\n",
      " [  125.93289039   136.69067051   147.44845064 ...            nan\n",
      "             nan            nan]]\n",
      "17275\n",
      "['0000-01-01T00:00:00.125', '0000-01-01T00:00:00.136', '0000-01-01T00:00:00.147', '0000-01-01T00:00:00.168', '0000-01-01T00:00:00.179', '9999-12-31T23:59:59.999', '9999-12-31T23:59:59.999', '9999-12-31T23:59:59.999', '9999-12-31T23:59:59.999', '9999-12-31T23:59:59.999', '9999-12-31T23:59:59.999', '9999-12-31T23:59:59.999', '9999-12-31T23:59:59.999', '9999-12-31T23:59:59.999', '9999-12-31T23:59:59.999', '9999-12-31T23:59:59.999', '9999-12-31T23:59:59.999', '9999-12-31T23:59:59.999', '9999-12-31T23:59:59.999', '9999-12-31T23:59:59.999', '9999-12-31T23:59:59.999', '9999-12-31T23:59:59.999', '9999-12-31T23:59:59.999', '9999-12-31T23:59:59.999', '9999-12-31T23:59:59.999', '9999-12-31T23:59:59.999', '9999-12-31T23:59:59.999', '9999-12-31T23:59:59.999', '9999-12-31T23:59:59.999', '9999-12-31T23:59:59.999', '9999-12-31T23:59:59.999', '9999-12-31T23:59:59.999', '9999-12-31T23:59:59.999', '9999-12-31T23:59:59.999', '9999-12-31T23:59:59.999', '9999-12-31T23:59:59.999', '9999-12-31T23:59:59.999', '9999-12-31T23:59:59.999', '9999-12-31T23:59:59.999', '9999-12-31T23:59:59.999', '9999-12-31T23:59:59.999', '9999-12-31T23:59:59.999', '9999-12-31T23:59:59.999', '9999-12-31T23:59:59.999', '9999-12-31T23:59:59.999', '9999-12-31T23:59:59.999', '9999-12-31T23:59:59.999', '9999-12-31T23:59:59.999', '9999-12-31T23:59:59.999', '9999-12-31T23:59:59.999']\n"
     ]
    }
   ],
   "source": [
    "cdata_ecm = THA1.varget('energy_center_mod')\n",
    "print(type(cdata_efcm))\n",
    "var_info = THA1.varinq(\"energy_center_mod\")\n",
    "print(f\"Data Type: {var_info.Data_Type}\")\n",
    "print(f\"Dimensions: {var_info.Dim_Sizes}\")\n",
    "print(f\"Record Varying: {var_info.Rec_Vary}\")\n",
    "print(f\"Compression: {var_info.Compress}\")\n",
    "print(cdata_ecm)\n",
    "print(len(cdata_ecm))\n",
    "date_str = cdflib.cdfepoch.encode(cdata_ecm[-1])\n",
    "print(date_str)"
   ]
  }
 ],
 "metadata": {
  "kernelspec": {
   "display_name": ".venv",
   "language": "python",
   "name": "python3"
  },
  "language_info": {
   "codemirror_mode": {
    "name": "ipython",
    "version": 3
   },
   "file_extension": ".py",
   "mimetype": "text/x-python",
   "name": "python",
   "nbconvert_exporter": "python",
   "pygments_lexer": "ipython3",
   "version": "3.13.2"
  }
 },
 "nbformat": 4,
 "nbformat_minor": 5
}
